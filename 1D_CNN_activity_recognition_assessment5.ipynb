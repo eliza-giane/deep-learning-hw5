{
  "nbformat": 4,
  "nbformat_minor": 0,
  "metadata": {
    "accelerator": "GPU",
    "colab": {
      "provenance": [],
      "gpuType": "T4",
      "include_colab_link": true
    },
    "kernelspec": {
      "display_name": "Python 3",
      "name": "python3"
    },
    "language_info": {
      "codemirror_mode": {
        "name": "ipython",
        "version": 3
      },
      "file_extension": ".py",
      "mimetype": "text/x-python",
      "name": "python",
      "nbconvert_exporter": "python",
      "pygments_lexer": "ipython3",
      "version": "3.6.6"
    }
  },
  "cells": [
    {
      "cell_type": "markdown",
      "metadata": {
        "id": "view-in-github",
        "colab_type": "text"
      },
      "source": [
        "<a href=\"https://colab.research.google.com/github/eliza-giane/deep-learning-hw5/blob/main/1D_CNN_activity_recognition_assessment5.ipynb\" target=\"_parent\"><img src=\"https://colab.research.google.com/assets/colab-badge.svg\" alt=\"Open In Colab\"/></a>"
      ]
    },
    {
      "cell_type": "markdown",
      "metadata": {
        "id": "_bkHwspbXK2s"
      },
      "source": [
        "# Copyright\n",
        "<pre>\n",
        "You may use and modify this code for research and development purpuses.\n",
        "Using this code for educational purposes (self-paced or instructor led) without the permission of the author is prohibited.\n",
        "Copyright (c) 2023 Bálint Gyires-Tóth - All Rights Reserved\n",
        "\n",
        "</pre>"
      ]
    },
    {
      "cell_type": "markdown",
      "metadata": {
        "id": "s0kz73yNXK2t"
      },
      "source": [
        "In this notebook, we will classify human activities based on smartphone accelerometer and gyroscope data. The corresponding Human Activity Recognition Using Smartphones Data Set is delivered by UCI Machine Learning Repository, for more information [please visit the site](https://archive.ics.uci.edu/ml/datasets/human+activity+recognition+using+smartphones)."
      ]
    },
    {
      "cell_type": "markdown",
      "source": [
        "## 1. Data acquisition\n",
        "Lets download and unpack the data."
      ],
      "metadata": {
        "id": "zy5lL5OEKvZM"
      }
    },
    {
      "cell_type": "code",
      "source": [
        "!wget https://archive.ics.uci.edu/ml/machine-learning-databases/00240/UCI%20HAR%20Dataset.zip"
      ],
      "metadata": {
        "colab": {
          "base_uri": "https://localhost:8080/"
        },
        "id": "nv5CJEQfKvFT",
        "outputId": "e18eb07b-25ef-4443-8016-b2fe1ffbf254"
      },
      "execution_count": 1,
      "outputs": [
        {
          "output_type": "stream",
          "name": "stdout",
          "text": [
            "--2024-04-09 20:01:08--  https://archive.ics.uci.edu/ml/machine-learning-databases/00240/UCI%20HAR%20Dataset.zip\n",
            "Resolving archive.ics.uci.edu (archive.ics.uci.edu)... 128.195.10.252\n",
            "Connecting to archive.ics.uci.edu (archive.ics.uci.edu)|128.195.10.252|:443... connected.\n",
            "HTTP request sent, awaiting response... 200 OK\n",
            "Length: unspecified\n",
            "Saving to: ‘UCI HAR Dataset.zip’\n",
            "\n",
            "UCI HAR Dataset.zip     [      <=>           ]  58.17M   130KB/s    in 18m 56s \n",
            "\n",
            "2024-04-09 20:20:05 (52.4 KB/s) - ‘UCI HAR Dataset.zip’ saved [60999314]\n",
            "\n"
          ]
        }
      ]
    },
    {
      "cell_type": "code",
      "source": [
        "!unzip \"UCI HAR Dataset.zip\" > null"
      ],
      "metadata": {
        "id": "9_bgc7Y2GTpy"
      },
      "execution_count": 2,
      "outputs": []
    },
    {
      "cell_type": "markdown",
      "source": [
        "## 2. Imports\n",
        "In this notebook we will need the following packages."
      ],
      "metadata": {
        "id": "A8IHEttFHzUv"
      }
    },
    {
      "cell_type": "code",
      "metadata": {
        "id": "eWBNCVa0bf65"
      },
      "source": [
        "import numpy as np\n",
        "import pandas as pd\n",
        "from tensorflow.keras.models import Sequential\n",
        "from tensorflow.keras.utils import to_categorical\n",
        "from tensorflow.keras.layers import Activation, Dense, Flatten, Conv1D, MaxPooling1D, Dropout\n",
        "from tensorflow.keras.callbacks import EarlyStopping\n",
        "from tensorflow.keras.optimizers import SGD\n",
        "import matplotlib.pyplot as plt\n",
        "import seaborn as sns"
      ],
      "execution_count": 221,
      "outputs": []
    },
    {
      "cell_type": "markdown",
      "source": [
        "## 3. Loading the data\n",
        "The following functions will load the training and test data from the unpacked dataset."
      ],
      "metadata": {
        "id": "uzBI0j52H_sL"
      }
    },
    {
      "cell_type": "code",
      "source": [
        "# this function loads a single file (input or output)\n",
        "def load_file(filepath):\n",
        "  df = pd.read_csv(filepath, header=None, delim_whitespace=True)\n",
        "  return df.values\n",
        "\n",
        "# this function loads a set of files into a Numpy array with a shape of [samples, timesteps, features]\n",
        "def load_group(filenames, prefix=''):\n",
        "  loaded = list()\n",
        "  for name in filenames:\n",
        "    data = load_file(prefix + name)\n",
        "    loaded.append(data)\n",
        "    # stack group so that features are the 3rd dimension\n",
        "  loaded = np.dstack(loaded)\n",
        "  return loaded\n",
        "\n",
        " # load inputs and outputs from a directory\n",
        "def load_XY(group, path):\n",
        "  filepath = path + group + '/Inertial Signals/'\n",
        "  filenames = list()\n",
        "  filenames += ['total_acc_x_'+group+'.txt', 'total_acc_y_'+group+'.txt', 'total_acc_z_'+group+'.txt'] + \\\n",
        "               ['body_acc_x_'+group+'.txt', 'body_acc_y_'+group+'.txt', 'body_acc_z_'+group+'.txt'] + \\\n",
        "               ['body_gyro_x_'+group+'.txt', 'body_gyro_y_'+group+'.txt', 'body_gyro_z_'+group+'.txt']\n",
        "  # inputs\n",
        "  X = load_group(filenames, filepath)\n",
        "  # output (class)\n",
        "  Y = load_file(path + group + '/y_'+group+'.txt')\n",
        "  return X, Y\n",
        "\n",
        "# load the dataset, returns train and test X and y elements\n",
        "def load_dataset(path='UCI HAR Dataset/'):\n",
        "  # load all train\n",
        "  X_train, Y_train = load_XY('train', path)\n",
        "  X_test,  Y_test  = load_XY('test', path)\n",
        "  Y_train = to_categorical(Y_train - 1 ) # we need -1 to scale the categories between 0..5 (from 1..6)\n",
        "  Y_test  = to_categorical(Y_test - 1 ) # we need -1 to scale the categories between 0..5 (from 1..6)\n",
        "  return X_train, Y_train, X_test, Y_test"
      ],
      "metadata": {
        "id": "1boApy2lLnhT"
      },
      "execution_count": 332,
      "outputs": []
    },
    {
      "cell_type": "code",
      "source": [
        "X_train, Y_train, X_test, Y_test = load_dataset()"
      ],
      "metadata": {
        "id": "l8hh4QYmMMtS"
      },
      "execution_count": 223,
      "outputs": []
    },
    {
      "cell_type": "code",
      "source": [
        "X_train.shape, Y_train.shape, X_test.shape, Y_test.shape"
      ],
      "metadata": {
        "colab": {
          "base_uri": "https://localhost:8080/"
        },
        "id": "Uo97vqf3BwRN",
        "outputId": "615f01b6-90e0-4191-947b-cfd82c10a544"
      },
      "execution_count": 224,
      "outputs": [
        {
          "output_type": "execute_result",
          "data": {
            "text/plain": [
              "((7352, 128, 9), (7352, 6), (2947, 128, 9), (2947, 6))"
            ]
          },
          "metadata": {},
          "execution_count": 224
        }
      ]
    },
    {
      "cell_type": "code",
      "source": [
        "Y_train[0],"
      ],
      "metadata": {
        "colab": {
          "base_uri": "https://localhost:8080/"
        },
        "id": "qtGQzkLmCKbL",
        "outputId": "9e6f544d-4cf8-4a97-87ca-e7967c9aaee9"
      },
      "execution_count": 225,
      "outputs": [
        {
          "output_type": "execute_result",
          "data": {
            "text/plain": [
              "(array([0., 0., 0., 0., 1., 0.], dtype=float32),)"
            ]
          },
          "metadata": {},
          "execution_count": 225
        }
      ]
    },
    {
      "cell_type": "markdown",
      "source": [
        "## 3.1. Data exploration: target variable - exercise 1\n",
        "Let's check how many data instances there are for each class:"
      ],
      "metadata": {
        "id": "Js-7BztvQ7Dd"
      }
    },
    {
      "cell_type": "code",
      "source": [
        "c0 = Y_train[np.all(Y_train == [1., 0., 0., 0., 0., 0.], axis = 1)]\n",
        "c1 = Y_train[np.all(Y_train == [0., 1., 0., 0., 0., 0.], axis = 1)]\n",
        "c2 = Y_train[np.all(Y_train == [0., 0., 1., 0., 0., 0.], axis = 1)]\n",
        "c3 = Y_train[np.all(Y_train == [0., 0., 0., 1., 0., 0.], axis = 1)]\n",
        "c4 = Y_train[np.all(Y_train == [0., 0., 0., 0., 1., 0.], axis = 1)]\n",
        "c5 = Y_train[np.all(Y_train == [0., 0., 0., 0., 0., 1.], axis = 1)]"
      ],
      "metadata": {
        "id": "JaxpBedpSgzQ"
      },
      "execution_count": 23,
      "outputs": []
    },
    {
      "cell_type": "code",
      "source": [
        "print(\"No. of instance belong to class 0:\",len(c0))\n",
        "print(\"No. of instance belong to class 1:\",len(c1))\n",
        "print(\"No. of instance belong to class 2:\",len(c2))\n",
        "print(\"No. of instance belong to class 3:\",len(c3))\n",
        "print(\"No. of instance belong to class 4:\",len(c4))\n",
        "print(\"No. of instance belong to class 5:\",len(c5))"
      ],
      "metadata": {
        "id": "4PTSOP--jPe_",
        "colab": {
          "base_uri": "https://localhost:8080/"
        },
        "outputId": "d7f64e40-7f7a-4f14-aacd-ef18decf7b0d"
      },
      "execution_count": 24,
      "outputs": [
        {
          "output_type": "stream",
          "name": "stdout",
          "text": [
            "No. of instance belong to class 0: 1226\n",
            "No. of instance belong to class 1: 1073\n",
            "No. of instance belong to class 2: 986\n",
            "No. of instance belong to class 3: 1286\n",
            "No. of instance belong to class 4: 1374\n",
            "No. of instance belong to class 5: 1407\n"
          ]
        }
      ]
    },
    {
      "cell_type": "markdown",
      "source": [
        "You can doublecheck your calculations by plotting the histogram of the target variables:"
      ],
      "metadata": {
        "id": "VaeV8Nqzjd6D"
      }
    },
    {
      "cell_type": "code",
      "source": [
        "sns.histplot(np.argmax(Y_train,axis=1))"
      ],
      "metadata": {
        "id": "4JTkOAmpRGKT",
        "colab": {
          "base_uri": "https://localhost:8080/",
          "height": 448
        },
        "outputId": "75dc4b18-d787-4db7-9952-4e4681a34e2f"
      },
      "execution_count": 25,
      "outputs": [
        {
          "output_type": "execute_result",
          "data": {
            "text/plain": [
              "<Axes: ylabel='Count'>"
            ]
          },
          "metadata": {},
          "execution_count": 25
        },
        {
          "output_type": "display_data",
          "data": {
            "text/plain": [
              "<Figure size 640x480 with 1 Axes>"
            ],
            "image/png": "[encoded data removed]"
          },
          "metadata": {}
        }
      ]
    },
    {
      "cell_type": "markdown",
      "source": [
        "## 3.2. Data exploration: input variables - exercise 2\n",
        "And now let's select one instance from each class and plot the corresponding timeseries:"
      ],
      "metadata": {
        "id": "rVeZhkJ-RB4_"
      }
    },
    {
      "cell_type": "code",
      "source": [
        "fig, axs = plt.subplots(nrows=2, ncols=3, figsize=(12, 6))\n",
        "\n",
        "for i in range(2): # row\n",
        "  for k in range(3): # column\n",
        "    for l in range(X_train.shape[2]): # dimensons to be displayed\n",
        "      class_no=i*2+k\n",
        "      # axs[i,k].plot(<TODO: select the input sequence of one instance from class #class_no>)\n",
        "      axs[i,k].plot(X_train[class_no, l,:], label=f'Dimension {l}')\n",
        "      axs[i,k].title.set_text(\"Class \"+str(class_no))\n",
        "plt.legend(loc='lower center', bbox_to_anchor=(1.42, -0.039))"
      ],
      "metadata": {
        "id": "C_wmgDBDWpFi",
        "colab": {
          "base_uri": "https://localhost:8080/",
          "height": 563
        },
        "outputId": "a3c4263f-01ef-47cc-ae43-ef06d0df957c"
      },
      "execution_count": 26,
      "outputs": [
        {
          "output_type": "execute_result",
          "data": {
            "text/plain": [
              "<matplotlib.legend.Legend at 0x7b1ec00080a0>"
            ]
          },
          "metadata": {},
          "execution_count": 26
        },
        {
          "output_type": "display_data",
          "data": {
            "text/plain": [
              "<Figure size 1200x600 with 6 Axes>"
            ],
            "image/png": "[encoded data removed]"
          },
          "metadata": {}
        }
      ]
    },
    {
      "cell_type": "markdown",
      "metadata": {
        "id": "LB0t_uW4XK2z"
      },
      "source": [
        "## 4. Model definition and training - exercise 3"
      ]
    },
    {
      "cell_type": "markdown",
      "metadata": {
        "id": "U04cYnapXK26"
      },
      "source": [
        "Let's define and train a 1D convolutional neural network, with the multidimensional timeseries as inputs, and the class in one-hot encoding as output.\n",
        "\n",
        "This time your task is to correct the code below and achieve higher than 90% validation accuracy and test accuracy. The test accuracy is calculated in section 5.\n",
        "Currently, **there are many errors (both syntactical and theroetical) in the model definition, compile and fit parts**, that should be fixed to achieve the goal. Don't change the number of layers and the layer types, and validation_split, just the other hyperparameters. There are several good solutions!\n",
        "\n",
        "Hints:\n",
        "* use narrow and deep Conv1D kernels\n",
        "* use standard activation functions for the inner layers (e.g. relu, sigmoid, tanh) with the corresponding initialization method\n",
        "* use the appropriate activation function the output and the corresponding loss function (which is aligned with the classification task)\n",
        "* use regularization, but not too agressive\n",
        "* use standard optimizers\n",
        "* train in mini-batches"
      ]
    },
    {
      "cell_type": "code",
      "source": [
        "nb_filter       = 3   # number of filter/kernels in the convolutional layers\n",
        "filter_length   = 48  # length of the filter/kernel in the convolutional layers\n",
        "window_size     = X_train.shape[1] # the window size defined by the dataset\n",
        "nb_features     = X_train.shape[2] # the number of features of the input data (number of dimensions)\n",
        "nb_outputs      = Y_train.shape[1] # the number of outputs (defined by the target data)"
      ],
      "metadata": {
        "id": "Yokac5NUR003"
      },
      "execution_count": 389,
      "outputs": []
    },
    {
      "cell_type": "code",
      "source": [
        "model = Sequential()\n",
        "model.add(Conv1D(filters=2.7*nb_filter, kernel_size=filter_length, activation='relu', kernel_initializer='he_normal', input_shape=(window_size, nb_features)))\n",
        "model.add(MaxPooling1D(pool_size=2,strides=1,padding='valid'))\n",
        "model.add(Dropout(0.1))\n",
        "\n",
        "model.add(Conv1D(filters=nb_filter, kernel_size=filter_length, activation='relu', kernel_initializer='he_normal'))\n",
        "model.add(MaxPooling1D(pool_size=2,strides=1,padding='valid'))\n",
        "model.add(Dropout(0.2))\n",
        "\n",
        "model.add(Flatten())\n",
        "\n",
        "model.add(Dense(128, activation='relu'))\n",
        "model.add(Dropout(0.45))\n",
        "model.add(Dense(nb_outputs, activation='softmax'))"
      ],
      "metadata": {
        "id": "N3h94EJTRxSy"
      },
      "execution_count": 390,
      "outputs": []
    },
    {
      "cell_type": "markdown",
      "source": [
        "Compiling the model with the appropriate loss function for multiclass classification."
      ],
      "metadata": {
        "id": "CxUOZGFVWZik"
      }
    },
    {
      "cell_type": "code",
      "source": [
        "model.compile(loss='categorical_crossentropy', optimizer='adam', metrics=['accuracy'])"
      ],
      "metadata": {
        "id": "kJ5dVKuzSh-U"
      },
      "execution_count": 391,
      "outputs": []
    },
    {
      "cell_type": "code",
      "source": [
        "model.summary()"
      ],
      "metadata": {
        "id": "692uD8KASsi6",
        "colab": {
          "base_uri": "https://localhost:8080/"
        },
        "outputId": "952a7bc5-f5b6-42d8-b092-c199af891117"
      },
      "execution_count": 392,
      "outputs": [
        {
          "output_type": "stream",
          "name": "stdout",
          "text": [
            "Model: \"sequential_61\"\n",
            "_________________________________________________________________\n",
            " Layer (type)                Output Shape              Param #   \n",
            "=================================================================\n",
            " conv1d_121 (Conv1D)         (None, 81, 8)             3464      \n",
            "                                                                 \n",
            " max_pooling1d_103 (MaxPool  (None, 80, 8)             0         \n",
            " ing1D)                                                          \n",
            "                                                                 \n",
            " dropout_157 (Dropout)       (None, 80, 8)             0         \n",
            "                                                                 \n",
            " conv1d_122 (Conv1D)         (None, 33, 3)             1155      \n",
            "                                                                 \n",
            " max_pooling1d_104 (MaxPool  (None, 32, 3)             0         \n",
            " ing1D)                                                          \n",
            "                                                                 \n",
            " dropout_158 (Dropout)       (None, 32, 3)             0         \n",
            "                                                                 \n",
            " flatten_49 (Flatten)        (None, 96)                0         \n",
            "                                                                 \n",
            " dense_98 (Dense)            (None, 128)               12416     \n",
            "                                                                 \n",
            " dropout_159 (Dropout)       (None, 128)               0         \n",
            "                                                                 \n",
            " dense_99 (Dense)            (None, 6)                 774       \n",
            "                                                                 \n",
            "=================================================================\n",
            "Total params: 17809 (69.57 KB)\n",
            "Trainable params: 17809 (69.57 KB)\n",
            "Non-trainable params: 0 (0.00 Byte)\n",
            "_________________________________________________________________\n"
          ]
        }
      ]
    },
    {
      "cell_type": "code",
      "source": [
        "es = EarlyStopping(patience=5, restore_best_weights=True, monitor=\"val_accuracy\")"
      ],
      "metadata": {
        "id": "F2K-4bVKSz85"
      },
      "execution_count": 393,
      "outputs": []
    },
    {
      "cell_type": "markdown",
      "source": [
        "And now we run the training:"
      ],
      "metadata": {
        "id": "0cT9S6rrbTFk"
      }
    },
    {
      "cell_type": "code",
      "source": [
        "# # split the data:\n",
        "# X_train = train_images[0:v_split]\n",
        "# Y_train = train_labels[0:v_split]\n",
        "# X_valid = train_images[v_split:]\n",
        "# Y_valid = train_labels[v_split:]"
      ],
      "metadata": {
        "id": "TCeGsWfGjTt5"
      },
      "execution_count": 394,
      "outputs": []
    },
    {
      "cell_type": "code",
      "source": [
        "model.fit(X_train, Y_train,\n",
        "          # validation_data=(X_valid,Y_valid),\n",
        "          epochs=200, batch_size=128,\n",
        "          validation_split=0.2, # don't change the validation split\n",
        "          callbacks=[es],\n",
        "          verbose=1)"
      ],
      "metadata": {
        "id": "JSeo-uv2SnAj",
        "colab": {
          "base_uri": "https://localhost:8080/"
        },
        "outputId": "c10dbe80-e2ee-441c-e613-265a0bed27c0"
      },
      "execution_count": 395,
      "outputs": [
        {
          "output_type": "stream",
          "name": "stdout",
          "text": [
            "Epoch 1/200\n",
            "46/46 [==============================] - 2s 11ms/step - loss: 1.6286 - accuracy: 0.2993 - val_loss: 1.4935 - val_accuracy: 0.3460\n",
            "Epoch 2/200\n",
            "46/46 [==============================] - 0s 6ms/step - loss: 1.3955 - accuracy: 0.3828 - val_loss: 1.2449 - val_accuracy: 0.5337\n",
            "Epoch 3/200\n",
            "46/46 [==============================] - 0s 9ms/step - loss: 1.0024 - accuracy: 0.5550 - val_loss: 0.8196 - val_accuracy: 0.6010\n",
            "Epoch 4/200\n",
            "46/46 [==============================] - 0s 9ms/step - loss: 0.7499 - accuracy: 0.6193 - val_loss: 0.7162 - val_accuracy: 0.6227\n",
            "Epoch 5/200\n",
            "46/46 [==============================] - 0s 9ms/step - loss: 0.6699 - accuracy: 0.6358 - val_loss: 0.6859 - val_accuracy: 0.6465\n",
            "Epoch 6/200\n",
            "46/46 [==============================] - 0s 9ms/step - loss: 0.5797 - accuracy: 0.7574 - val_loss: 0.8756 - val_accuracy: 0.7859\n",
            "Epoch 7/200\n",
            "46/46 [==============================] - 0s 9ms/step - loss: 0.3328 - accuracy: 0.9133 - val_loss: 1.5214 - val_accuracy: 0.8960\n",
            "Epoch 8/200\n",
            "46/46 [==============================] - 0s 9ms/step - loss: 0.1958 - accuracy: 0.9492 - val_loss: 1.5924 - val_accuracy: 0.8926\n",
            "Epoch 9/200\n",
            "46/46 [==============================] - 0s 6ms/step - loss: 0.1466 - accuracy: 0.9529 - val_loss: 1.6737 - val_accuracy: 0.8919\n",
            "Epoch 10/200\n",
            "46/46 [==============================] - 0s 6ms/step - loss: 0.1316 - accuracy: 0.9539 - val_loss: 1.3974 - val_accuracy: 0.9103\n",
            "Epoch 11/200\n",
            "46/46 [==============================] - 0s 6ms/step - loss: 0.1344 - accuracy: 0.9532 - val_loss: 1.0255 - val_accuracy: 0.9041\n",
            "Epoch 12/200\n",
            "46/46 [==============================] - 0s 7ms/step - loss: 0.1542 - accuracy: 0.9466 - val_loss: 1.3516 - val_accuracy: 0.9007\n",
            "Epoch 13/200\n",
            "46/46 [==============================] - 0s 6ms/step - loss: 0.1287 - accuracy: 0.9549 - val_loss: 1.1954 - val_accuracy: 0.9109\n",
            "Epoch 14/200\n",
            "46/46 [==============================] - 0s 6ms/step - loss: 0.1115 - accuracy: 0.9599 - val_loss: 1.3140 - val_accuracy: 0.9103\n",
            "Epoch 15/200\n",
            "46/46 [==============================] - 0s 7ms/step - loss: 0.1049 - accuracy: 0.9606 - val_loss: 1.2643 - val_accuracy: 0.9109\n",
            "Epoch 16/200\n",
            "46/46 [==============================] - 0s 7ms/step - loss: 0.1093 - accuracy: 0.9617 - val_loss: 1.1902 - val_accuracy: 0.9116\n",
            "Epoch 17/200\n",
            "46/46 [==============================] - 0s 6ms/step - loss: 0.0991 - accuracy: 0.9629 - val_loss: 1.1315 - val_accuracy: 0.9089\n",
            "Epoch 18/200\n",
            "46/46 [==============================] - 0s 6ms/step - loss: 0.0949 - accuracy: 0.9619 - val_loss: 1.1644 - val_accuracy: 0.9116\n",
            "Epoch 19/200\n",
            "46/46 [==============================] - 0s 7ms/step - loss: 0.1049 - accuracy: 0.9604 - val_loss: 0.5243 - val_accuracy: 0.9048\n",
            "Epoch 20/200\n",
            "46/46 [==============================] - 0s 6ms/step - loss: 0.1099 - accuracy: 0.9607 - val_loss: 0.8986 - val_accuracy: 0.9041\n",
            "Epoch 21/200\n",
            "46/46 [==============================] - 0s 7ms/step - loss: 0.1153 - accuracy: 0.9589 - val_loss: 0.6409 - val_accuracy: 0.9103\n"
          ]
        },
        {
          "output_type": "execute_result",
          "data": {
            "text/plain": [
              "<keras.src.callbacks.History at 0x7b1df491bee0>"
            ]
          },
          "metadata": {},
          "execution_count": 395
        }
      ]
    },
    {
      "cell_type": "markdown",
      "metadata": {
        "id": "qXM0IetJSpKM"
      },
      "source": [
        "## 5. Evaluation\n",
        "Please run the cells below to check the test loss and test accuracy (remember, the accuracy must be over 90%) and inspect the other evaluation methods as well."
      ]
    },
    {
      "cell_type": "code",
      "source": [
        "eval = model.evaluate(X_test,Y_test)\n",
        "print(\"Test loss:\",eval[0])\n",
        "print(\"Test accuracy:\",eval[1])"
      ],
      "metadata": {
        "id": "7sR4-0Rkaz1-",
        "colab": {
          "base_uri": "https://localhost:8080/"
        },
        "outputId": "564eb87d-34ce-4ee2-852b-88195843d8f4"
      },
      "execution_count": 396,
      "outputs": [
        {
          "output_type": "stream",
          "name": "stdout",
          "text": [
            "93/93 [==============================] - 0s 4ms/step - loss: 0.9343 - accuracy: 0.9108\n",
            "Test loss: 0.9342522621154785\n",
            "Test accuracy: 0.9107567071914673\n"
          ]
        }
      ]
    },
    {
      "cell_type": "code",
      "source": [
        "from sklearn.metrics import confusion_matrix, classification_report"
      ],
      "metadata": {
        "id": "WJDwjNkAaS8n"
      },
      "execution_count": 397,
      "outputs": []
    },
    {
      "cell_type": "code",
      "source": [
        "preds = model.predict(X_test)"
      ],
      "metadata": {
        "id": "rkIBcKY9aMdp",
        "colab": {
          "base_uri": "https://localhost:8080/"
        },
        "outputId": "0a554ce7-10f1-40f6-aa90-ff16cc65cc64"
      },
      "execution_count": 398,
      "outputs": [
        {
          "output_type": "stream",
          "name": "stdout",
          "text": [
            "93/93 [==============================] - 0s 2ms/step\n"
          ]
        }
      ]
    },
    {
      "cell_type": "code",
      "source": [
        "print(classification_report(np.argmax(Y_test,1),np.argmax(preds,1)))"
      ],
      "metadata": {
        "id": "zrWe3vPJaZ3v",
        "colab": {
          "base_uri": "https://localhost:8080/"
        },
        "outputId": "629d87cd-126f-4be9-d19a-44a8b9d7f645"
      },
      "execution_count": 399,
      "outputs": [
        {
          "output_type": "stream",
          "name": "stdout",
          "text": [
            "              precision    recall  f1-score   support\n",
            "\n",
            "           0       0.98      0.99      0.98       496\n",
            "           1       0.99      0.95      0.97       471\n",
            "           2       0.94      0.98      0.96       420\n",
            "           3       0.80      0.84      0.82       491\n",
            "           4       0.78      0.81      0.80       532\n",
            "           5       1.00      0.92      0.96       537\n",
            "\n",
            "    accuracy                           0.91      2947\n",
            "   macro avg       0.92      0.91      0.91      2947\n",
            "weighted avg       0.91      0.91      0.91      2947\n",
            "\n"
          ]
        }
      ]
    },
    {
      "cell_type": "code",
      "source": [
        "conf=confusion_matrix(np.argmax(Y_test,1),np.argmax(preds,1))\n",
        "sns.heatmap(conf, annot=True, fmt='d', vmax=100,cmap='Purples')"
      ],
      "metadata": {
        "id": "kRdfXOypaciv",
        "colab": {
          "base_uri": "https://localhost:8080/",
          "height": 453
        },
        "outputId": "9ef0ad41-b9da-4305-ee53-501cad872827"
      },
      "execution_count": 402,
      "outputs": [
        {
          "output_type": "execute_result",
          "data": {
            "text/plain": [
              "<Axes: >"
            ]
          },
          "metadata": {},
          "execution_count": 402
        },
        {
          "output_type": "display_data",
          "data": {
            "text/plain": [
              "<Figure size 640x480 with 2 Axes>"
            ],
            "image/png": "[encoded data removed]"
          },
          "metadata": {}
        }
      ]
    }
  ]
}